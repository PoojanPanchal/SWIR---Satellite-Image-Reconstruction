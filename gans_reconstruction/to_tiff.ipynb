{
 "cells": [
  {
   "cell_type": "code",
   "execution_count": 6,
   "metadata": {},
   "outputs": [],
   "source": [
    "import numpy as np\n",
    "import tifffile as tiff\n",
    "from tifffile import imsave\n",
    "from PIL import Image\n",
    "import cv2"
   ]
  },
  {
   "cell_type": "code",
   "execution_count": 9,
   "metadata": {},
   "outputs": [],
   "source": [
    "path = './dat/test_img.tif'"
   ]
  },
  {
   "cell_type": "code",
   "execution_count": 11,
   "metadata": {},
   "outputs": [],
   "source": [
    "input_img = tiff.imread(path)"
   ]
  },
  {
   "cell_type": "code",
   "execution_count": 16,
   "metadata": {},
   "outputs": [
    {
     "output_type": "execute_result",
     "data": {
      "text/plain": "(2048, 2048)"
     },
     "metadata": {},
     "execution_count": 16
    }
   ],
   "source": [
    "img_shape = input_img.shape\n",
    "img_shape"
   ]
  },
  {
   "cell_type": "code",
   "execution_count": 42,
   "metadata": {},
   "outputs": [],
   "source": [
    "#splitting\n",
    "master_arr = []\n",
    "for i in range(img_shape[1]//256):\n",
    "    temp_arr = []\n",
    "    for j in range(img_shape[0]//256):\n",
    "        x=256*j\n",
    "        y=256*i\n",
    "        k=input_img[x:x+256,y:y+256]\n",
    "        temp_arr.append(k)\n",
    "    master_arr.append(temp_arr)\n"
   ]
  },
  {
   "cell_type": "code",
   "execution_count": null,
   "metadata": {},
   "outputs": [],
   "source": [
    "# applying\n",
    "for i in range(len(master_arr)):\n",
    "    for j in range(len(master_arr[i])):\n",
    "        master_arr[i][j] = fun(master_arr[i][j])\n"
   ]
  },
  {
   "cell_type": "code",
   "execution_count": 58,
   "metadata": {},
   "outputs": [
    {
     "output_type": "execute_result",
     "data": {
      "text/plain": "(2048, 2048)"
     },
     "metadata": {},
     "execution_count": 58
    }
   ],
   "source": [
    "fin =[]\n",
    "#joining\n",
    "for  i in range(len(master_arr)):\n",
    "    temp = master_arr[i][0]\n",
    "    for j in range(len(master_arr[i])-1):\n",
    "        temp = np.vstack((temp,master_arr[i][j+1]))\n",
    "    fin.append(temp)\n",
    "\n",
    "final  = fin[0]\n",
    "for i in range(len(fin)-1):\n",
    "    final = np.hstack((final,fin[i+1]))\n",
    "np.array(final).shape"
   ]
  },
  {
   "cell_type": "code",
   "execution_count": 47,
   "metadata": {},
   "outputs": [],
   "source": [
    "imsave(\"reconstructed.tif\",final)"
   ]
  },
  {
   "cell_type": "code",
   "execution_count": 59,
   "metadata": {},
   "outputs": [],
   "source": []
  }
 ],
 "metadata": {
  "language_info": {
   "codemirror_mode": {
    "name": "ipython",
    "version": 3
   },
   "file_extension": ".py",
   "mimetype": "text/x-python",
   "name": "python",
   "nbconvert_exporter": "python",
   "pygments_lexer": "ipython3",
   "version": "3.7.1-final"
  },
  "orig_nbformat": 2,
  "kernelspec": {
   "name": "python3",
   "display_name": "Python 3"
  }
 },
 "nbformat": 4,
 "nbformat_minor": 2
}