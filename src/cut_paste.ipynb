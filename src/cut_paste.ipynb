{
 "metadata": {
  "language_info": {
   "codemirror_mode": {
    "name": "ipython",
    "version": 3
   },
   "file_extension": ".py",
   "mimetype": "text/x-python",
   "name": "python",
   "nbconvert_exporter": "python",
   "pygments_lexer": "ipython3",
   "version": 3
  },
  "orig_nbformat": 2,
  "kernelspec": {
   "name": "python_defaultSpec_1596277840676",
   "display_name": "Python 3.7.6 64-bit ('base': conda)"
  }
 },
 "nbformat": 4,
 "nbformat_minor": 2,
 "cells": [
  {
   "cell_type": "code",
   "execution_count": 2,
   "metadata": {},
   "outputs": [],
   "source": [
    "import numpy as np\n",
    "import cv2\n",
    "import tifffile as tiff\n",
    "from PIL import Image"
   ]
  },
  {
   "cell_type": "code",
   "execution_count": 24,
   "metadata": {},
   "outputs": [],
   "source": [
    "original = tiff.imread(\"new_data/original.tif\")\n",
    "hori = tiff.imread(\"new_data/horiz_data.tif\")\n",
    "output = tiff.imread(\"CV_Output/cv_navier_stokes/tif output/cv_hoiz_nv.tif\")\n",
    "deep = tiff.imread(\"Deep_Prior/Horizontal_Deep_prior_tif.tif\")"
   ]
  },
  {
   "cell_type": "code",
   "execution_count": 25,
   "metadata": {},
   "outputs": [
    {
     "output_type": "execute_result",
     "data": {
      "text/plain": "array([[1265, 1245, 1274, ..., 1286, 1291, 1220],\n       [1297, 1282, 1272, ..., 1265, 1293, 1240],\n       [1306, 1302, 1327, ..., 1254, 1311, 1269],\n       ...,\n       [1181, 1146, 1169, ..., 1274, 1277, 1240],\n       [1251, 1189, 1203, ..., 1314, 1271, 1228],\n       [1303, 1205, 1198, ..., 1223, 1209, 1171]], dtype=uint16)"
     },
     "metadata": {},
     "execution_count": 25
    }
   ],
   "source": [
    "original"
   ]
  },
  {
   "cell_type": "code",
   "execution_count": 26,
   "metadata": {},
   "outputs": [
    {
     "output_type": "execute_result",
     "data": {
      "text/plain": "array([[1265, 1245, 1274, ..., 1286, 1291, 1220],\n       [   0,    0,    0, ...,    0,    0,    0],\n       [   0,    0,    0, ...,    0,    0,    0],\n       ...,\n       [1181, 1146, 1169, ..., 1274, 1277, 1240],\n       [1251, 1189, 1203, ..., 1314, 1271, 1228],\n       [1303, 1205, 1198, ..., 1223, 1209, 1171]], dtype=uint16)"
     },
     "metadata": {},
     "execution_count": 26
    }
   ],
   "source": [
    "hori"
   ]
  },
  {
   "cell_type": "code",
   "execution_count": 27,
   "metadata": {},
   "outputs": [
    {
     "output_type": "execute_result",
     "data": {
      "text/plain": "array([[1265, 1245, 1274, ..., 1286, 1291, 1220],\n       [   0,    0,    0, ...,    0,    0,    0],\n       [   0,    0,    0, ...,    0,    0,    0],\n       ...,\n       [1181, 1146, 1169, ..., 1274, 1277, 1240],\n       [1251, 1189, 1203, ..., 1314, 1271, 1228],\n       [1303, 1205, 1198, ..., 1223, 1209, 1171]], dtype=uint16)"
     },
     "metadata": {},
     "execution_count": 27
    }
   ],
   "source": [
    "output"
   ]
  },
  {
   "cell_type": "code",
   "execution_count": 28,
   "metadata": {
    "tags": []
   },
   "outputs": [
    {
     "output_type": "execute_result",
     "data": {
      "text/plain": "array([[[0.8405866 , 0.8383548 , 0.8371399 , ..., 0.7970166 ,\n         0.7965185 , 0.79062253],\n        [0.8460218 , 0.8445478 , 0.84368426, ..., 0.78797567,\n         0.78668034, 0.7833914 ],\n        [0.84095293, 0.8366065 , 0.83612406, ..., 0.77818006,\n         0.7772825 , 0.781669  ],\n        ...,\n        [0.40522403, 0.367409  , 0.34150875, ..., 0.729599  ,\n         0.7180975 , 0.7162656 ],\n        [0.6063534 , 0.5871776 , 0.57108676, ..., 0.72903836,\n         0.7182707 , 0.72103167],\n        [0.73776037, 0.71947706, 0.7187649 , ..., 0.7271338 ,\n         0.7169424 , 0.7224633 ]]], dtype=float32)"
     },
     "metadata": {},
     "execution_count": 28
    }
   ],
   "source": [
    "# float 32 to uint 16\n",
    "deep"
   ]
  },
  {
   "cell_type": "code",
   "execution_count": null,
   "metadata": {},
   "outputs": [],
   "source": []
  }
 ]
}